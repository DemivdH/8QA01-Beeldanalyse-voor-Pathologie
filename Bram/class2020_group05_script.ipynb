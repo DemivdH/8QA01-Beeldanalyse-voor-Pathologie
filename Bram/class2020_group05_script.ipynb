{
 "cells": [
  {
   "cell_type": "markdown",
   "metadata": {},
   "source": [
    "# Course Project: Image Analysis for cancer risk assessment (8QA01)"
   ]
  },
  {
   "cell_type": "markdown",
   "metadata": {},
   "source": [
    "\n",
    "Welcome to the project of 8QA01! This notebook contains the steps to go through the images, measure features and display measurements, using functions in the utilities_8qa01.py module. You can add extend this by adding more functions in the module, and calling them from this notebook.\n",
    "\n",
    "\n",
    "Before you start, don't forget to:\n",
    "\n",
    "- Read the README.md file in this repository\n",
    "- Do the \"Getting started\" [essential skills](https://github.com/tueimage/essential-skills) tutorial on Python\n",
    "\n"
   ]
  },
  {
   "cell_type": "markdown",
   "metadata": {},
   "source": [
    "# Step-by-step project walkthrough"
   ]
  },
  {
   "cell_type": "markdown",
   "metadata": {},
   "source": [
    "# -1. Adjust the file\n",
    "Changes you need to make for each step.\n",
    "0. Make sure import Groep_05_functions is your name of the functions file. It probably has to be in the same folder as this program. Make sure all functions are present. If you made a change to the functions, rerun the entire program (see general tips).\n",
    "1. Change the paths to the label files and the images. Move images to C:\\\\Users\\\\Administrator or Public if error something like \"no file with directory C:\\\\Users\\x202407\\...\" occurs, where x replaces part of your student number.\n",
    "2. No changes.\n",
    "3. Make sure either the title of the ID's in the labels file is 'id' or change this value here. Changing the excel file is advised.\n",
    "Make a np.array for each feature you're testing.\n",
    "4. Add features when they work. Asymmetry and rotating pictures are commented out right now because function is broken.\n",
    "5. Make sure all features are saved.\n",
    "6. Change outfile here to use a different file than the one you wrote to. Can be used to not have to calculate everything.\n",
    "Make sure all features are mentioned. \n",
    "Only two features can be plotted at any time. Currently it's border and color score based on intervals.\n",
    "7. Change validation_K at the top to use different values for K.\n",
    "Some lines of code are commented because they plot values for K while the average is also plotted.\n",
    "Average K is plotted in the last few lines. Delete or comment this to not make the plot.\n",
    "Change util.knn_classifier (about halfway in the step, right after the second for loop) to another classifier to use a different classifier.\n",
    "Best accuracy for validation set and best K is also printed. Might be useless if you use a different classifier.\n",
    "\n",
    "# Also -1. General tips\n",
    "- You can select any block of code and run it without having to rerun any of the previous blocks.\n",
    "- You can skip having to calculate all features again if you have a file with saved data. Run blocks 0-3 and 6-7 to plot and calculate accuracy. Change the outfile at the start of step 6 to use a different file.\n",
    "- If you make changes to our measuring functions, you have to completely restart the code with the circle arrows two to the right of the run button and starting all over. Not doing this will result in errors indicated on lines that don't have any errors or even no text at all."
   ]
  },
  {
   "cell_type": "markdown",
   "metadata": {},
   "source": [
    "## 0. Import required python packages\n",
    "\n",
    "These packages contain different functionality, for example matplotlib.pyplot is useful for various visualisation techniques. You can import more packages than these, as long as they are common Python packages, or you include them with your code. \n"
   ]
  },
  {
   "cell_type": "code",
   "execution_count": 2,
   "metadata": {},
   "outputs": [],
   "source": [
    "import os\n",
    "import pandas as pd\n",
    "import numpy as np\n",
    "import matplotlib.pyplot as plt\n",
    "import Groep_05_functions as util\n",
    "from skimage import morphology\n",
    "from sklearn.model_selection import StratifiedShuffleSplit\n",
    "from sklearn.metrics import accuracy_score"
   ]
  },
  {
   "cell_type": "markdown",
   "metadata": {},
   "source": [
    "## 1. Specify data locations\n",
    "\n",
    "Change the dataFile variable according to the image set you are using "
   ]
  },
  {
   "cell_type": "code",
   "execution_count": 3,
   "metadata": {},
   "outputs": [],
   "source": [
    "dataFile = 'class2020_group05_labels.xlsx'\n",
    "imagePath = 'C:\\\\Users\\Administrator\\Documents\\OGO beeldanalyse\\Onze data'\n",
    "maskPath = 'C:\\\\Users\\Administrator\\Documents\\OGO beeldanalyse\\Onze data maskers'"
   ]
  },
  {
   "cell_type": "markdown",
   "metadata": {},
   "source": [
    "## 2. Load data"
   ]
  },
  {
   "cell_type": "code",
   "execution_count": 4,
   "metadata": {},
   "outputs": [],
   "source": [
    "dframe = pd.read_excel(dataFile)\n",
    "\n",
    "#print(dframe)"
   ]
  },
  {
   "cell_type": "markdown",
   "metadata": {},
   "source": [
    "## 3. Initialise variables"
   ]
  },
  {
   "cell_type": "code",
   "execution_count": 5,
   "metadata": {},
   "outputs": [],
   "source": [
    "ID = list(dframe['id'])\n",
    "Melanoma = np.array(dframe['melanoma'])\n",
    "numImages = len(ID)\n",
    "featuresBorder = np.empty([numImages,1])\n",
    "featuresBorder[:] = np.nan\n",
    "featuresColor = np.empty([numImages,1])\n",
    "featuresColor[:] = np.nan\n",
    "featuresAsymmetry = np.empty([numImages,1])\n",
    "featuresAsymmetry[:] = np.nan\n",
    "featuresColor2 = np.empty([numImages,1])\n",
    "featuresColor2[:] = np.nan\n",
    "\n"
   ]
  },
  {
   "cell_type": "markdown",
   "metadata": {},
   "source": [
    "## 4. Measure features for all images"
   ]
  },
  {
   "cell_type": "code",
   "execution_count": 5,
   "metadata": {},
   "outputs": [],
   "source": [
    "for i in np.arange(numImages):\n",
    "    \n",
    "    # Define filenames related to this image\n",
    "    imFile = imagePath + os.sep + ID[i] + '.jpg'\n",
    "    maskFile = maskPath + os.sep + ID[i] + '_segmentation.png'\n",
    "    \n",
    "    # Read the images with these filenames\n",
    "    im = plt.imread(imFile)\n",
    "    mask = plt.imread(maskFile)\n",
    "    \n",
    "    #Draai de foto\n",
    "    #mask, im = util.image_rotation(im, mask) Doet het niet\n",
    "    \n",
    "    # Measure features\n",
    "    border_score, border = util.border_evaluation(mask)\n",
    "    color_score_2 = util.color_cluster_evaluation(im, mask) # Kleur met clusters\n",
    "    color_score = util.colour_evaluation(im, mask) # Kleur met intervallen\n",
    "    #asymmetry_score = util.symmetry_evaluation(im, mask) Werkt niet zolang draaien niet werkt\n",
    "    # xx, yy, zz = util.measureYourOwnFeatures(mask)\n",
    "    \n",
    "    # Store in the variables we created before\n",
    "    featuresBorder[i,0] = border_score\n",
    "    featuresColor[i,0] = color_score\n",
    "    featuresColor2[i,0] = color_score_2\n",
    "    #featuresAsymmetry[i,0] = asymmetry_score\n",
    "    # featuresOther[i,0] = xx"
   ]
  },
  {
   "cell_type": "markdown",
   "metadata": {},
   "source": [
    "## 5. Save measured data"
   ]
  },
  {
   "cell_type": "code",
   "execution_count": 6,
   "metadata": {},
   "outputs": [],
   "source": [
    "outfile = 'group2020_05_automatic.csv'\n",
    "outdata = {\"id\": ID, \n",
    "           \"border\": featuresBorder.flatten(),\n",
    "           \"color\": featuresColor.flatten(),\n",
    "           \"color2\": featuresColor2.flatten()}\n",
    "\n",
    "dframe_out = pd.DataFrame(outdata)\n",
    "dframe_out.to_csv(outfile, index=False)"
   ]
  },
  {
   "cell_type": "markdown",
   "metadata": {},
   "source": [
    "## 6. Display measured data"
   ]
  },
  {
   "cell_type": "code",
   "execution_count": 7,
   "metadata": {},
   "outputs": [
    {
     "data": {
      "text/plain": [
       "<matplotlib.legend.Legend at 0x1d78c54b7f0>"
      ]
     },
     "execution_count": 7,
     "metadata": {},
     "output_type": "execute_result"
    },
    {
     "data": {
      "image/png": "[encoded data removed]",
      "text/plain": [
       "<Figure size 576x576 with 1 Axes>"
      ]
     },
     "metadata": {
      "needs_background": "light"
     },
     "output_type": "display_data"
    }
   ],
   "source": [
    "# Load the data you saved, then do some analysis\n",
    "outfile = 'group2020_05_automatic.csv'\n",
    "dframe = pd.read_csv(outfile)\n",
    "ID = list(dframe['id'])\n",
    "featuresBorder = np.array(dframe['border'])\n",
    "featuresColor = np.array(dframe['color'])\n",
    "featuresColor2 = np.array(dframe['color2'])\n",
    "\n",
    "# Display 2 features measured in a scatterplot, \n",
    "axs = util.scatter_data(featuresBorder, featuresColor, Melanoma)\n",
    "axs.set_xlabel('X1 = Border')\n",
    "axs.set_ylabel('X2 = Color')\n",
    "axs.legend()"
   ]
  },
  {
   "cell_type": "markdown",
   "metadata": {},
   "source": [
    "## 7. Predict labels using measurements"
   ]
  },
  {
   "cell_type": "code",
   "execution_count": 14,
   "metadata": {
    "pycharm": {
     "name": "#%%\n"
    }
   },
   "outputs": [
    {
     "name": "stdout",
     "output_type": "stream",
     "text": [
      "Accuracy of predictions on test set of fold 1: 0.8\n",
      "Accuracy of validation set was 0.9 with K: 1\n",
      "Accuracy of predictions on test set of fold 2: 0.8\n",
      "Accuracy of validation set was 0.85 with K: 1\n",
      "Accuracy of predictions on test set of fold 3: 0.95\n",
      "Accuracy of validation set was 0.85 with K: 1\n",
      "Accuracy of predictions on test set of fold 4: 0.95\n",
      "Accuracy of validation set was 0.9 with K: 7\n",
      "Accuracy of predictions on test set of fold 5: 0.5\n",
      "Accuracy of validation set was 1.0 with K: 2\n"
     ]
    },
    {
     "data": {
      "text/plain": [
       "[<matplotlib.lines.Line2D at 0x250073ca130>]"
      ]
     },
     "execution_count": 14,
     "metadata": {},
     "output_type": "execute_result"
    },
    {
     "data": {
      "image/png": "[encoded data removed]",
      "text/plain": [
       "<Figure size 432x288 with 1 Axes>"
      ]
     },
     "metadata": {
      "needs_background": "light"
     },
     "output_type": "display_data"
    }
   ],
   "source": [
    "#Define K's that are tested on the validation set and the number of the current fold\n",
    "Validation_K = range(1, 20)\n",
    "curr_fold = 0\n",
    "# Load features\n",
    "X = dframe.iloc[:,1:].to_numpy()\n",
    "# Load labels\n",
    "y = Melanoma\n",
    "all_acc_test= np.empty([5, 19])\n",
    "all_acc_test[:] = np.nan\n",
    "all_acc_val=np.empty([5, 19])\n",
    "all_acc_val[:]=np.nan\n",
    "\n",
    "# Split dataset into 5 different dataset folds for cross-validation\n",
    "kf = StratifiedShuffleSplit(n_splits=5, test_size=0.4, random_state=1)\n",
    "# Predict labels for each fold using the KNN algortihm\n",
    "for train_index, test_val_index in kf.split(X, y):\n",
    "    \n",
    "    #For making a plot of test acc and val acc over multiple K\n",
    "    #acc_test_list = [] Commented because average is plotted\n",
    "    #acc_val_list = []\n",
    "    \n",
    "    best_K = 0\n",
    "    # Define accuracy score and predictions for test set\n",
    "    Acc_Score = 0\n",
    "    y_pred_test = 0\n",
    "    # split dataset into a train, validation and test dataset\n",
    "    test_index , val_index = np.split(test_val_index, 2)\n",
    "    X_train, X_val, X_test = X[train_index], X[val_index], X[test_index]\n",
    "    y_train, y_val, y_test = y[train_index], y[val_index], y[test_index]\n",
    "    # Generate predictions using knn_classifier for every K\n",
    "    for K in Validation_K:        \n",
    "        y_pred_val, y_pred_test_curr = util.knn_classifier(X_train, y_train, X_val, X_test, K)\n",
    "        Curr_Acc = accuracy_score(y_val,y_pred_val)\n",
    "        # If accuracy of the predictions on the validation set is larger than the current accuracy, save predictions\n",
    "        # for test set\n",
    "        \n",
    "        #Measure test set and store these values\n",
    "        test_acc_curr = accuracy_score(y_test,y_pred_test_curr)\n",
    "        acc_test_list.append(test_acc_curr)\n",
    "        acc_val_list.append(Curr_Acc)\n",
    "        \n",
    "        if Curr_Acc > Acc_Score:\n",
    "            Acc_Score = Curr_Acc\n",
    "            y_pred_test = y_pred_test_curr\n",
    "            best_K = K\n",
    "    # Add 1 to the number of the current fold and print the accuracy on the test set for the current fold\n",
    "    #plt.plot(acc_test_list, 'r-') Plot accuracy for each fold\n",
    "    #plt.plot(acc_val_list, 'b-') Commented because average is plotted\n",
    "    all_acc_val[curr_fold, :] = acc_val_list\n",
    "    all_acc_test[curr_fold, :] = acc_test_list\n",
    "    curr_fold += 1\n",
    "    plt.xlabel = \"K\"\n",
    "    plt.ylabel = \"Accuracy\"\n",
    "    test_acc = accuracy_score(y_test,y_pred_test)\n",
    "    print('Accuracy of predictions on test set of fold '+ str(curr_fold)+ ': ' + str(test_acc))\n",
    "    print('Accuracy of validation set was '+ str(Acc_Score) + ' with K: '+str(best_K))\n",
    "\n",
    "#Plot average accuracies for all K's\n",
    "gem_acc_test=[] # Initialise variables for storing average accuracies\n",
    "gem_acc_val=[]\n",
    "for i in range(19):\n",
    "    acc_val = all_acc_val[:, i] # Take the accuracies of a certain K\n",
    "    acc_test = all_acc_test[:, i]\n",
    "    gem_acc_test.append(np.sum(acc_test)/len(acc_test)) # Calculate and store average accuracy\n",
    "    gem_acc_val.append(np.sum(acc_val)/len(acc_val))\n",
    "plt.plot(Validation_K, gem_acc_test,'r-') # Plot these average accuracies for each K\n",
    "plt.plot(Validation_K, gem_acc_val, 'b-')"
   ]
  },
  {
   "cell_type": "code",
   "execution_count": null,
   "metadata": {},
   "outputs": [],
   "source": []
  },
  {
   "cell_type": "code",
   "execution_count": null,
   "metadata": {},
   "outputs": [],
   "source": []
  },
  {
   "cell_type": "code",
   "execution_count": null,
   "metadata": {},
   "outputs": [],
   "source": []
  },
  {
   "cell_type": "code",
   "execution_count": null,
   "metadata": {},
   "outputs": [],
   "source": []
  }
 ],
 "metadata": {
  "kernelspec": {
   "display_name": "Python 3",
   "language": "python",
   "name": "python3"
  },
  "language_info": {
   "codemirror_mode": {
    "name": "ipython",
    "version": 3
   },
   "file_extension": ".py",
   "mimetype": "text/x-python",
   "name": "python",
   "nbconvert_exporter": "python",
   "pygments_lexer": "ipython3",
   "version": "3.8.3"
  }
 },
 "nbformat": 4,
 "nbformat_minor": 4
}
